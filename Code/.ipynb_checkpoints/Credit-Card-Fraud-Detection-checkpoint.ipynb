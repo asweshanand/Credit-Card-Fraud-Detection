{
 "cells": [
  {
   "cell_type": "markdown",
   "id": "7df4c9c8-7fd7-4d25-8865-e85e940f7b46",
   "metadata": {},
   "source": [
    "## Credit Card Fraud Detection"
   ]
  },
  {
   "cell_type": "markdown",
   "id": "0c31627a-87a3-4e7a-aad0-1810a0758ab2",
   "metadata": {},
   "source": [
    "Context:\r\n",
    "\r\n",
    "It is important that credit card companies are able to recognize fraudulent credit card transactions so that customers are not charged for items that they did not purchase.\r\n",
    "\r\n",
    "Dataset - https://www.kaggle.com/datasets/mlg-ulb/creditcardfraud?resource=download\r\n",
    "\r\n",
    "Reference Video - https://www.youtube.com/watch?v=frM_7UMD_-A\r\n",
    "\r\n",
    "Class variable is a flag for indicating whether the transaction is a fraud or not.\r\n",
    "Feature 'Class' is the response variable and it takes value 1 in case of a fraud and 0 otherwise.\r\n",
    "\r\n",
    "The data is highly imbalanced with only 0.172% of all transactions being fraudulant."
   ]
  },
  {
   "cell_type": "code",
   "execution_count": 1,
   "id": "fba67704-ed93-482f-9162-df81bf07576c",
   "metadata": {},
   "outputs": [],
   "source": [
    "##Importing Necessary Libraries\n",
    "import os\n",
    "cwd = os.getcwd()\n",
    "import numpy as np\n",
    "import pandas as pd\n",
    "import sklearn\n",
    "import scipy\n",
    "import matplotlib.pyplot as plt\n",
    "import seaborn as sns\n",
    "from sklearn.metrics import classification_report, accuracy_score\n",
    "from sklearn.ensemble import IsolationForest\n",
    "from sklearn.neighbors import LocalOutlierFactor\n",
    "from sklearn.svm import OneClassSVM\n",
    "from pylab import rcParams\n",
    "rcParams['figure.figsize'] = 14, 8\n",
    "seed = 69\n",
    "Labels = ['Normal','Fraud']"
   ]
  },
  {
   "cell_type": "code",
   "execution_count": null,
   "id": "dec87d9b-ed44-4ef6-8bdb-f12ec281d7c2",
   "metadata": {},
   "outputs": [],
   "source": []
  }
 ],
 "metadata": {
  "kernelspec": {
   "display_name": "Python 3 (ipykernel)",
   "language": "python",
   "name": "python3"
  },
  "language_info": {
   "codemirror_mode": {
    "name": "ipython",
    "version": 3
   },
   "file_extension": ".py",
   "mimetype": "text/x-python",
   "name": "python",
   "nbconvert_exporter": "python",
   "pygments_lexer": "ipython3",
   "version": "3.11.7"
  }
 },
 "nbformat": 4,
 "nbformat_minor": 5
}
